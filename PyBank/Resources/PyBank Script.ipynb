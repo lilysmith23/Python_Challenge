{
 "cells": [
  {
   "cell_type": "code",
   "execution_count": 3,
   "metadata": {},
   "outputs": [],
   "source": [
    "import csv"
   ]
  },
  {
   "cell_type": "code",
   "execution_count": 4,
   "metadata": {},
   "outputs": [],
   "source": [
    "total_month = 0\n",
    "total_profitloss = 0\n",
    "previous_profitloss = 0 \n",
    "increase = 0\n",
    "month_of_increase = \"\"\n",
    "decrease = 0\n",
    "month_of_decrease = \"\"\n",
    "change = 0\n",
    "change_per_month = 0\n",
    "average = 0\n",
    "total_change_per_month = 0\n",
    "average_change_per_month = 0\n",
    "\n",
    "\n",
    "with open(\"budget_data.csv\") as csv_file:\n",
    "    csv_reader = csv.reader(csv_file, delimiter = \",\")\n",
    "    csv_header = next(csv_reader)\n",
    "    \n",
    "    for row in csv_reader: \n",
    "        total_month += 1\n",
    "        total_profitloss += int(row[1])\n",
    "        \n",
    "        if total_month > 1: \n",
    "            change_per_month = int(row[1]) - (previous_profitloss)\n",
    "            \n",
    "        total_change_per_month += (change_per_month)\n",
    "        previous_profitloss = int(row[1])\n",
    "            \n",
    "            \n",
    "        if change_per_month > increase:\n",
    "            increase = change_per_month\n",
    "            month_of_increase = row[0]\n",
    "                \n",
    "        if change_per_month < decrease: \n",
    "            decrease = change_per_month\n",
    "            month_of_decrease = row[0]\n",
    "                \n",
    "\n",
    "average_change_per_month = (total_change_per_month/(total_month - 1))\n",
    "formatted_avg_change = \"{:.2f}\".format(total_change_per_month/(total_month - 1))\n",
    "\n",
    "            \n",
    "url = \"../Analysis/PyBank_results.txt\"\n",
    "a = f\"Financial Analysis\\n\"\n",
    "b = f\"------------------\\n\"\n",
    "c = f\"Total Months: {int(total_month)}\\n\"\n",
    "d = f\"Total: ${str(total_profitloss)}\\n\"\n",
    "e = f\"Average Change: ${str(formatted_avg_change)}\\n\"\n",
    "f = f\"Greatest Increase in Profits: {month_of_increase} (${str(increase)})\\n\"\n",
    "g = f\"Greatest Increase in Profits: {month_of_decrease} (${str(decrease)})\\n\"\n",
    "z = [a, b, c, d, e, f, g]\n",
    "\n",
    "with open(url, \"w\") as data_text:\n",
    "    data_text.writelines(z)\n",
    "    "
   ]
  },
  {
   "cell_type": "code",
   "execution_count": null,
   "metadata": {},
   "outputs": [],
   "source": []
  }
 ],
 "metadata": {
  "kernelspec": {
   "display_name": "Python 3",
   "language": "python",
   "name": "python3"
  },
  "language_info": {
   "codemirror_mode": {
    "name": "ipython",
    "version": 3
   },
   "file_extension": ".py",
   "mimetype": "text/x-python",
   "name": "python",
   "nbconvert_exporter": "python",
   "pygments_lexer": "ipython3",
   "version": "3.7.9"
  }
 },
 "nbformat": 4,
 "nbformat_minor": 4
}
