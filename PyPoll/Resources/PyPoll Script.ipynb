{
 "cells": [
  {
   "cell_type": "code",
   "execution_count": 12,
   "metadata": {},
   "outputs": [],
   "source": [
    "import csv"
   ]
  },
  {
   "cell_type": "code",
   "execution_count": 13,
   "metadata": {},
   "outputs": [],
   "source": [
    "total_voter_id = 0\n",
    "candidates = []\n",
    "candidate_votes= {}\n",
    "winner_count = 0\n",
    "name = []\n",
    "winner_no_votes = 0\n",
    "winner = \"\"\n",
    "\n",
    "with open(\"election_data.csv\") as csv_file:\n",
    "    csv_reader = csv.reader(csv_file, delimiter = \",\")\n",
    "    csv_header = next(csv_reader)\n",
    "    \n",
    "    for row in csv_reader:\n",
    "            total_voter_id += 1\n",
    "            name = str(row[2])\n",
    "            \n",
    "            if name not in candidates:\n",
    "                candidates.append(name)\n",
    "                candidate_votes[name] = 1\n",
    "            \n",
    "            else:\n",
    "                candidate_votes[name] = candidate_votes[name] + 1\n",
    "    \n",
    "    candidate_vote_as_percentage = {}\n",
    "    \n",
    "    for i in candidate_votes:\n",
    "            candidate_vote_as_percentage [i] = \"{:.3%}\".format(candidate_votes [i]/total_voter_id), candidate_votes [i]\n",
    "            \n",
    "            if (candidate_votes [i] > winner_no_votes):\n",
    "                winner_no_votes = candidate_votes [i]\n",
    "                winner = i\n",
    "                \n",
    "\n",
    "url = \"../Analysis/Pypoll_results.txt\"\n",
    "a = f\"Election Results\\n\"\n",
    "b = '------------------\\n'\n",
    "c = f\"Total Votes: {str(total_voter_id)}\\n\"\n",
    "d = f\"{candidate_vote_as_percentage}\\n\"\n",
    "e = f\"Winner: {winner}\\n\"\n",
    "z = [a,b,c,b,d,b,e,b]\n",
    "\n",
    "with open(url,'w') as data_text:\n",
    "    data_text.writelines(z)\n"
   ]
  },
  {
   "cell_type": "code",
   "execution_count": 14,
   "metadata": {},
   "outputs": [
    {
     "name": "stdout",
     "output_type": "stream",
     "text": [
      "Khan : ('63.000%', 2218231)\n",
      "Correy : ('20.000%', 704200)\n",
      "Li : ('14.000%', 492940)\n",
      "O'Tooley : ('3.000%', 105630)\n"
     ]
    }
   ],
   "source": [
    "#was able to get correct format for results within python, however couldnt print them to the txt file in this format. \n",
    "for key, value in candidate_vote_as_percentage.items():\n",
    "    print(key, ':', value)"
   ]
  },
  {
   "cell_type": "code",
   "execution_count": null,
   "metadata": {},
   "outputs": [],
   "source": []
  }
 ],
 "metadata": {
  "kernelspec": {
   "display_name": "Python 3",
   "language": "python",
   "name": "python3"
  },
  "language_info": {
   "codemirror_mode": {
    "name": "ipython",
    "version": 3
   },
   "file_extension": ".py",
   "mimetype": "text/x-python",
   "name": "python",
   "nbconvert_exporter": "python",
   "pygments_lexer": "ipython3",
   "version": "3.7.9"
  }
 },
 "nbformat": 4,
 "nbformat_minor": 4
}
